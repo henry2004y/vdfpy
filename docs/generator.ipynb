{
 "cells": [
  {
   "cell_type": "markdown",
   "metadata": {},
   "source": [
    "# Generating Distribution Functions\n",
    "\n",
    "NumPy provides efficient and flexible tools for random sampling. "
   ]
  },
  {
   "cell_type": "code",
   "execution_count": 2,
   "metadata": {},
   "outputs": [],
   "source": [
    "import numpy as np\n",
    "import pandas as pd\n",
    "import matplotlib.pyplot as plt\n",
    "import seaborn as sns\n",
    "\n",
    "sns.set_theme(rc={'figure.figsize':(10,3)})"
   ]
  },
  {
   "cell_type": "markdown",
   "metadata": {},
   "source": [
    "## One-dimensional Distributions"
   ]
  },
  {
   "cell_type": "markdown",
   "metadata": {},
   "source": [
    "In the simplest case, if we have a discrete distribution (a set of values with associated probabilities), we can sample points like the following:"
   ]
  },
  {
   "cell_type": "code",
   "execution_count": 5,
   "metadata": {},
   "outputs": [],
   "source": [
    "population = [1, 2, 3, 4, 5]\n",
    "probabilities = [0.1, 0.2, 0.3, 0.25, 0.15]\n",
    "\n",
    "samples = np.random.choice(population, size=50, p=probabilities)\n",
    "df_discrete = pd.DataFrame(samples, columns=[\"x\"])"
   ]
  },
  {
   "cell_type": "code",
   "execution_count": null,
   "metadata": {},
   "outputs": [],
   "source": [
    "hp = sns.histplot(df_discrete,\n",
    "                  x=\"x\",\n",
    "                  stat=\"probability\",\n",
    "                  discrete=True\n",
    "                 )\n",
    "hp.set(title=\"Discrete Distribution\");"
   ]
  },
  {
   "cell_type": "code",
   "execution_count": null,
   "metadata": {},
   "outputs": [],
   "source": [
    "mean1, std1 = -2, 2\n",
    "mean2, std2 = 4, 1\n",
    "n1 = 9000\n",
    "n2 = 1000\n",
    "\n",
    "samples1 = np.random.normal(mean1, std1, size=n1)\n",
    "samples2 = np.random.normal(mean2, std2, size=n2)\n",
    "samples = np.concatenate([samples1, samples2])\n",
    "np.random.shuffle(samples) # Shuffle to mix the samples randomly\n",
    "df_double_peak = pd.DataFrame(samples, columns=[\"x\"])\n",
    "df_double_peak"
   ]
  },
  {
   "cell_type": "code",
   "execution_count": null,
   "metadata": {},
   "outputs": [],
   "source": [
    "hp = sns.histplot(df_double_peak,\n",
    "                  x=\"x\",\n",
    "                  stat=\"density\",\n",
    "                  kde=True\n",
    "                 )\n",
    "hp.set(title=\"Mixture of two Maxwellian Distribution\");"
   ]
  },
  {
   "cell_type": "markdown",
   "metadata": {},
   "source": [
    "## Two-dimensional Distributions"
   ]
  },
  {
   "cell_type": "markdown",
   "metadata": {},
   "source": [
    "### 2D Maxwellian"
   ]
  },
  {
   "cell_type": "code",
   "execution_count": 5,
   "metadata": {},
   "outputs": [],
   "source": [
    "mean1, std1 = 0, 1\n",
    "n1 = 5000\n",
    "\n",
    "samples1 = np.random.normal(mean1, std1, size=n1)\n",
    "samples2 = np.random.normal(mean1, std1, size=n1)\n",
    "samples = np.column_stack((samples1, samples2))\n",
    "\n",
    "df_double_peak_2d = pd.DataFrame(samples, columns=[\"x\", \"y\"])"
   ]
  },
  {
   "cell_type": "code",
   "execution_count": null,
   "metadata": {},
   "outputs": [],
   "source": [
    "fig, ax = plt.subplots(figsize=(7, 6), layout=\"constrained\")\n",
    "hp = sns.histplot(df_double_peak_2d,\n",
    "                  x=\"x\", y=\"y\",\n",
    "                  stat=\"density\",\n",
    "                  ax=ax,\n",
    "                 )\n",
    "hp.set(title=\"2D Maxwellian Distribution\");"
   ]
  },
  {
   "cell_type": "markdown",
   "metadata": {},
   "source": [
    "### 2D double-peak Maxwellian\n",
    "\n",
    "Here is an analytical construction of a mixture of two Maxwellian distribution in 2D. Note that the kernel density estimation in high dimension is an expensive operation."
   ]
  },
  {
   "cell_type": "code",
   "execution_count": null,
   "metadata": {},
   "outputs": [],
   "source": [
    "mean1, std1 = (0, 0), 1\n",
    "mean2, std2 = (3, 3), 1\n",
    "n1 = 8000\n",
    "n2 = 2000\n",
    "\n",
    "s1 = np.random.normal(mean1[0], std1, size=n1)\n",
    "s2 = np.random.normal(mean1[1], std1, size=n1)\n",
    "samples1 = np.column_stack((s1, s2))\n",
    "\n",
    "s1 = np.random.normal(mean2[0], std2, size=n2)\n",
    "s2 = np.random.normal(mean2[1], std2, size=n2)\n",
    "samples2 = np.column_stack((s1, s2))\n",
    "\n",
    "samples = np.concatenate((samples1, samples2))\n",
    "df_double_peak_2d = pd.DataFrame(samples, columns=[\"x\", \"y\"])\n",
    "df_double_peak_2d"
   ]
  },
  {
   "cell_type": "code",
   "execution_count": null,
   "metadata": {},
   "outputs": [],
   "source": [
    "fig, ax = plt.subplots(figsize=(7, 6), layout=\"constrained\")\n",
    "hp = sns.histplot(df_double_peak_2d,\n",
    "                  x=\"x\", y=\"y\",\n",
    "                  stat=\"density\",\n",
    "                  ax=ax\n",
    "                 )\n",
    "hp.set(title=\"2D Double Peak Distribution\");\n",
    "sns.kdeplot(df_double_peak_2d, x=\"x\", y=\"y\")"
   ]
  }
 ],
 "metadata": {
  "kernelspec": {
   "display_name": "vdfpy-L8WReCYd-py3.11",
   "language": "python",
   "name": "python3"
  },
  "language_info": {
   "codemirror_mode": {
    "name": "ipython",
    "version": 3
   },
   "file_extension": ".py",
   "mimetype": "text/x-python",
   "name": "python",
   "nbconvert_exporter": "python",
   "pygments_lexer": "ipython3",
   "version": "3.11.7"
  }
 },
 "nbformat": 4,
 "nbformat_minor": 2
}
